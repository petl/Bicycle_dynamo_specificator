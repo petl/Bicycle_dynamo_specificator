{
 "cells": [
  {
   "cell_type": "markdown",
   "metadata": {},
   "source": [
    "# Script to get data from the Rigol 1054Z scope and plot it\n",
    "16.3.20,pet"
   ]
  },
  {
   "cell_type": "code",
   "execution_count": 1,
   "metadata": {},
   "outputs": [],
   "source": [
    "#scope\n",
    "from ds1054z import DS1054Z\n",
    "#plot\n",
    "import matplotlib.pyplot as plt\n",
    "import numpy as np\n",
    "#filter\n",
    "from scipy.signal import butter,filtfilt# Filter requirements.\n",
    "from scipy.signal import blackmanharris, correlate\n",
    "from numpy.fft import rfft\n",
    "from numpy import argmax, mean, diff, log, nonzero\n",
    "from numpy import polyfit, arange\n"
   ]
  },
  {
   "cell_type": "markdown",
   "metadata": {},
   "source": [
    "# Scope "
   ]
  },
  {
   "cell_type": "code",
   "execution_count": 2,
   "metadata": {},
   "outputs": [
    {
     "name": "stdout",
     "output_type": "stream",
     "text": [
      "Connected to:  RIGOL TECHNOLOGIES,DS1104Z,DS1ZA192812789,00.04.04.SP3\n",
      "Currently displayed channels:  ['CHAN1', 'MATH']\n"
     ]
    }
   ],
   "source": [
    "scope = DS1054Z('192.168.0.98')\n",
    "print(\"Connected to: \", scope.idn)\n",
    "\n",
    "print(\"Currently displayed channels: \", str(scope.displayed_channels))"
   ]
  },
  {
   "cell_type": "code",
   "execution_count": 3,
   "metadata": {},
   "outputs": [
    {
     "name": "stdout",
     "output_type": "stream",
     "text": [
      "2.0\n",
      "1200\n",
      "1200\n"
     ]
    }
   ],
   "source": [
    "print(scope.get_channel_scale(\"CHAN1\"))\n",
    "\n",
    "#print(scope.decode_ieee_block(scope.query_raw(\":WAVeform:DATA?\")))\n",
    "wave_volt = np.array(scope.get_waveform_samples(\"CHAN1\"))#,\"MAX\")\n",
    "wave_time = np.array(scope.waveform_time_values)\n",
    "print(len(wave_volt))\n",
    "print(len(wave_time))"
   ]
  },
  {
   "cell_type": "code",
   "execution_count": null,
   "metadata": {},
   "outputs": [],
   "source": []
  },
  {
   "cell_type": "markdown",
   "metadata": {},
   "source": [
    "# Filter"
   ]
  },
  {
   "cell_type": "code",
   "execution_count": 4,
   "metadata": {},
   "outputs": [],
   "source": [
    "\n",
    "T = wave_time[len(wave_time)-1] - wave_time[0]         # Sample Period\n",
    "fs = 1/(wave_time[1]-wave_time[0])       # sample rate, Hz\n",
    "cutoff = 1000      # desired cutoff frequency of the filter, Hz ,      slightly higher than actual 1.2 Hznyq = 0.5 * fs  # Nyquist Frequencyorder = 2       # sin wave can be approx represented as quadratic\n",
    "n = int(T * fs) # total number of samples\n",
    "order = 2       # sin wave can be approx represented as quadratic\n",
    "nyq = 0.5 * fs  # Nyquist Frequencyorder = 2       # sin wave can be approx represented as quadratic\n"
   ]
  },
  {
   "cell_type": "code",
   "execution_count": 5,
   "metadata": {},
   "outputs": [],
   "source": [
    "def butter_lowpass_filter(data, cutoff, fs, order):\n",
    "    normal_cutoff = cutoff / nyq\n",
    "    # Get the filter coefficients \n",
    "    b, a = butter(order, normal_cutoff, btype='low', analog=False)\n",
    "    y = filtfilt(b, a, data)\n",
    "    return y"
   ]
  },
  {
   "cell_type": "code",
   "execution_count": 6,
   "metadata": {},
   "outputs": [],
   "source": [
    "def freq_from_fft(sig, fs):\n",
    "    \"\"\"\n",
    "    Estimate frequency from peak of FFT\n",
    "    \"\"\"\n",
    "    # Compute Fourier transform of windowed signal\n",
    "    windowed = sig * blackmanharris(len(sig))\n",
    "    f = rfft(windowed)\n",
    "\n",
    "    # Find the peak and interpolate to get a more accurate peak\n",
    "    i = argmax(abs(f))  # Just use this for less-accurate, naive version\n",
    "    true_i = parabolic(log(abs(f)), i)[0]\n",
    "\n",
    "    # Convert to equivalent frequency\n",
    "    return fs * true_i / len(windowed)"
   ]
  },
  {
   "cell_type": "code",
   "execution_count": 7,
   "metadata": {},
   "outputs": [],
   "source": [
    "def parabolic(f, x):\n",
    "    \"\"\"Quadratic interpolation for estimating the true position of an\n",
    "    inter-sample maximum when nearby samples are known.\n",
    "\n",
    "    f is a vector and x is an index for that vector.\n",
    "\n",
    "    Returns (vx, vy), the coordinates of the vertex of a parabola that goes\n",
    "    through point x and its two neighbors.\n",
    "\n",
    "    Example:\n",
    "    Defining a vector f with a local maximum at index 3 (= 6), find local\n",
    "    maximum if points 2, 3, and 4 actually defined a parabola.\n",
    "\n",
    "    In [3]: f = [2, 3, 1, 6, 4, 2, 3, 1]\n",
    "\n",
    "    In [4]: parabolic(f, argmax(f))\n",
    "    Out[4]: (3.2142857142857144, 6.1607142857142856)\n",
    "\n",
    "    \"\"\"\n",
    "    xv = 1/2. * (f[x-1] - f[x+1]) / (f[x-1] - 2 * f[x] + f[x+1]) + x\n",
    "    yv = f[x] - 1/4. * (f[x-1] - f[x+1]) * (xv - x)\n",
    "    return (xv, yv)\n",
    "\n"
   ]
  },
  {
   "cell_type": "code",
   "execution_count": 8,
   "metadata": {},
   "outputs": [],
   "source": [
    "\n",
    "def parabolic_polyfit(f, x, n):\n",
    "    \"\"\"Use the built-in polyfit() function to find the peak of a parabola\n",
    "\n",
    "    f is a vector and x is an index for that vector.\n",
    "\n",
    "    n is the number of samples of the curve used to fit the parabola.\n",
    "\n",
    "    \"\"\"\n",
    "    a, b, c = polyfit(arange(x-n//2, x+n//2+1), f[x-n//2:x+n//2+1], 2)\n",
    "    xv = -0.5 * b/a\n",
    "    yv = a * xv**2 + b * xv + c\n",
    "    return (xv, yv)"
   ]
  },
  {
   "cell_type": "code",
   "execution_count": 9,
   "metadata": {},
   "outputs": [
    {
     "name": "stdout",
     "output_type": "stream",
     "text": [
      "60.12 Hz\n"
     ]
    }
   ],
   "source": [
    "# Filter the data\n",
    "wave_volt_filtered = butter_lowpass_filter(wave_volt, cutoff, fs, order)\n",
    "wave_frequency = freq_from_fft(wave_volt, fs)\n",
    "print(str(round(wave_frequency,2))+' Hz')"
   ]
  },
  {
   "cell_type": "markdown",
   "metadata": {},
   "source": [
    "# Plot"
   ]
  },
  {
   "cell_type": "code",
   "execution_count": 10,
   "metadata": {},
   "outputs": [
    {
     "data": {
      "image/png": "[encoded data removed]",
      "text/plain": [
       "<Figure size 432x288 with 1 Axes>"
      ]
     },
     "metadata": {
      "needs_background": "light"
     },
     "output_type": "display_data"
    }
   ],
   "source": [
    "name=\"Measurements/test\"\n",
    "\n",
    "#plt.plot(wave_time*1000, wave_volt, linewidth = 0.1)\n",
    "plt.plot(wave_time*1000, wave_volt_filtered)#, linewidth = 0.1)\n",
    "plt.xlabel('Time [ms]')\n",
    "plt.ylabel('Voltage LP 1kHz [V]')\n",
    "\n",
    "data_stacked = np.column_stack([wave_time,wave_volt,wave_volt_filtered])\n",
    "np.savetxt( name+'.csv', data_stacked, delimiter=',', newline='\\n', header='[TIME],[VOLT],[VOLT filtered 1kHz] \\n') \n",
    "plt.savefig(name+'.png', dpi = 600)"
   ]
  },
  {
   "cell_type": "code",
   "execution_count": 104,
   "metadata": {},
   "outputs": [
    {
     "name": "stdout",
     "output_type": "stream",
     "text": [
      "[[-0.06        4.56        4.55869569]\n",
      " [-0.0599     -1.28        3.04170523]\n",
      " [-0.0598      4.32        1.85373488]\n",
      " ...\n",
      " [ 0.0597     -6.64       -3.5254715 ]\n",
      " [ 0.0598     -6.48       -2.36165631]\n",
      " [ 0.0599     -0.72       -0.73303076]]\n"
     ]
    }
   ],
   "source": []
  },
  {
   "cell_type": "code",
   "execution_count": null,
   "metadata": {},
   "outputs": [],
   "source": []
  }
 ],
 "metadata": {
  "kernelspec": {
   "display_name": "Python 3",
   "language": "python",
   "name": "python3"
  },
  "language_info": {
   "codemirror_mode": {
    "name": "ipython",
    "version": 3
   },
   "file_extension": ".py",
   "mimetype": "text/x-python",
   "name": "python",
   "nbconvert_exporter": "python",
   "pygments_lexer": "ipython3",
   "version": "3.7.6"
  }
 },
 "nbformat": 4,
 "nbformat_minor": 2
}
